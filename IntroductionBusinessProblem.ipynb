{
 "cells": [
  {
   "cell_type": "markdown",
   "id": "b8f32c4c-e838-4a86-9a00-d031d1762b9e",
   "metadata": {},
   "source": [
    "# CAPSTONE PROJECT - The Battle of Neighborhoods (Week 1)"
   ]
  },
  {
   "cell_type": "markdown",
   "id": "54ec0eaf-1b4c-42f8-9162-ce6b167b3c36",
   "metadata": {},
   "source": [
    "## I. Introduction/Business Problem ##"
   ]
  },
  {
   "cell_type": "markdown",
   "id": "cca83105-1b50-4a20-b591-b66b26282ee4",
   "metadata": {},
   "source": [
    "An Asian Association in the USA is interested in opening an Asian Restaurant in Maryland.  Financing is not an issue.  However, they would like the determine which state and neighborhood in Maryland will they be targeting.\n",
    "\n",
    "They would like to get the following information to help them with their decision:\n",
    "1. Which city in the state of Maryland has the most Asian population.\n",
    "2. Which neighborhood in that city has the most Asian population.\n",
    "3. How many similar establishments are already in that target location.\n",
    "\n",
    "The first two (2) items will help the company determine the target community based on population. And the third item is to determine the competition the new establishment may be facing.\n",
    "\n",
    "Report should project details that will answer these questions, thus providing the association with relevant information to guide them in their venture."
   ]
  },
  {
   "cell_type": "code",
   "execution_count": null,
   "id": "46cc211e-3ece-4260-b432-991e2aba6688",
   "metadata": {},
   "outputs": [],
   "source": []
  }
 ],
 "metadata": {
  "kernelspec": {
   "display_name": "Python",
   "language": "python",
   "name": "conda-env-python-py"
  },
  "language_info": {
   "codemirror_mode": {
    "name": "ipython",
    "version": 3
   },
   "file_extension": ".py",
   "mimetype": "text/x-python",
   "name": "python",
   "nbconvert_exporter": "python",
   "pygments_lexer": "ipython3",
   "version": "3.6.13"
  }
 },
 "nbformat": 4,
 "nbformat_minor": 5
}
