{
 "cells": [
  {
   "cell_type": "markdown",
   "id": "e5718ff3-31dd-4ec5-898f-2995c537fac0",
   "metadata": {},
   "source": [
    "# CAPSTONE PROJECT - The Battle of Neighborhoods (Week 1)"
   ]
  },
  {
   "cell_type": "markdown",
   "id": "1e76f653-ebd8-4f27-a5ba-95ed5f28f594",
   "metadata": {},
   "source": [
    "## II. Data ##"
   ]
  },
  {
   "cell_type": "markdown",
   "id": "252b6572-5618-4ee9-b1d7-aebd5774e0e0",
   "metadata": {},
   "source": [
    "The following information are being requested by the Asian Association to help them with their decision on where in Maryland will they start a new Asian Restaurant:\n",
    "1. Which city in the state of Maryland has the most Asian population.\n",
    "2. Which neighborhood in that city has the most Asian population.\n",
    "3. How many similar establishments are already in that target location.\n",
    "\n",
    "For the 1st item, we would need to get the data set containing Asian population of each city in the State in Maryland. This data can be found the url https://www.homesnacks.com/most-asian-cities-in-maryland/.  We will be needing to use BeautifulSoap to scrape the data from this website. It is important that we extract the following information: State, Asian population.\n",
    "\n",
    "After determining which city has the most Asian population, we then move to the 2nd item in the list above.  For this part, we will once again use BeautifulSoap to scrape the information from http://www.city-data.  The following information should be availed from this site: Neighborhood, Asian population.\n",
    "\n",
    "Once we've determined the Neighborhood, we will have to answer the 3rd item which is to identify the existing establishments in that area, thus, determining how will the business competition be like.  In this item, we will be needing __Foursquare__ location data to search and explore the venue for other Asian restaurants.\n",
    "\n",
    "__To site an example__, if by accomplishing item no.1, we are able to know that Baltimore has the most Asian population in the state of Maryland, then, we are also able to determine that Downtown West is the neighborhood that has the most Asian population.  We will then use Foursquare data and its APIs to find out how many Asian restaurants are there is the area.  This will provide Asian Association with an overview of which neighborhood will most likely give them the best outcome when starting the Asian Restaurant. \n"
   ]
  },
  {
   "cell_type": "code",
   "execution_count": null,
   "id": "a20a9ee0-091e-4d26-8f6c-1bff374ba0c7",
   "metadata": {},
   "outputs": [],
   "source": []
  }
 ],
 "metadata": {
  "kernelspec": {
   "display_name": "Python",
   "language": "python",
   "name": "conda-env-python-py"
  },
  "language_info": {
   "codemirror_mode": {
    "name": "ipython",
    "version": 3
   },
   "file_extension": ".py",
   "mimetype": "text/x-python",
   "name": "python",
   "nbconvert_exporter": "python",
   "pygments_lexer": "ipython3",
   "version": "3.6.13"
  }
 },
 "nbformat": 4,
 "nbformat_minor": 5
}
